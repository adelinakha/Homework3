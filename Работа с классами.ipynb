{
 "cells": [
  {
   "cell_type": "markdown",
   "id": "9d463f38",
   "metadata": {},
   "source": [
    "Задание 1. Вариант №1 (с помощью функции со специальными правами заимствования)"
   ]
  },
  {
   "cell_type": "code",
   "execution_count": 9,
   "id": "8ea17402",
   "metadata": {},
   "outputs": [
    {
     "name": "stdout",
     "output_type": "stream",
     "text": [
      "Валюта с максимальным курсом: СДР (специальные права заимствования)\n"
     ]
    }
   ],
   "source": [
    "import requests\n",
    "\n",
    "def get_max_currency():\n",
    "    # Получаем данные о курсах валют\n",
    "    response = requests.get('https://www.cbr-xml-daily.ru/daily_json.js')\n",
    "    data = response.json()\n",
    "\n",
    "    # Ищем валюту с максимальным курсом\n",
    "    max_rate = 0\n",
    "    max_currency_name = ''\n",
    "\n",
    "    for currency_code, currency_info in data['Valute'].items():\n",
    "            \n",
    "        current_rate = currency_info['Value']/ currency_info['Nominal']\n",
    "        if current_rate > max_rate:\n",
    "            max_rate = current_rate\n",
    "            max_currency_name = currency_info['Name']\n",
    "\n",
    "    return max_currency_name\n",
    "\n",
    "\n",
    "max_currency = get_max_currency()\n",
    "print(f\"Валюта с максимальным курсом: {max_currency}\")"
   ]
  },
  {
   "cell_type": "markdown",
   "id": "7576011b",
   "metadata": {},
   "source": [
    "Задание 1. Вариант № 2. Поскольку СДР не являются валютой, а только единицей для международных рассчетов, решим задачу с помощью класса."
   ]
  },
  {
   "cell_type": "code",
   "execution_count": 11,
   "id": "8699e6cd",
   "metadata": {},
   "outputs": [
    {
     "name": "stdout",
     "output_type": "stream",
     "text": [
      "Валюта с максимальным курсом (исключая СДР): Фунт стерлингов Соединенного королевства\n"
     ]
    }
   ],
   "source": [
    "import requests\n",
    "\n",
    "class CurrencyAnalyzer:\n",
    "    def __init__(self):\n",
    "        self.api_url = 'https://www.cbr-xml-daily.ru/daily_json.js'\n",
    "        self._update_data()\n",
    "\n",
    "    def _update_data(self):\n",
    "        response = requests.get(self.api_url)\n",
    "        self.data = response.json()['Valute']\n",
    "\n",
    "    def get_max_currency(self, excluded_currency=None):\n",
    "        self._update_data()  # Обновляем данные перед каждым запросом\n",
    "\n",
    "        max_rate = 0\n",
    "        max_currency_name = ''\n",
    "\n",
    "        for currency_code, currency_info in self.data.items():\n",
    "            if excluded_currency and currency_info['Name'] == excluded_currency:\n",
    "                continue\n",
    "\n",
    "            current_rate = currency_info['Value']/ currency_info['Nominal'] # делим на значения ключа 'Nominal'\n",
    "            if current_rate > max_rate:\n",
    "                max_rate = current_rate\n",
    "                max_currency_name = currency_info['Name']\n",
    "\n",
    "        return max_currency_name\n",
    "\n",
    "# Пример использования\n",
    "analyzer = CurrencyAnalyzer()\n",
    "max_currency = analyzer.get_max_currency(excluded_currency=\"СДР (специальные права заимствования)\")\n",
    "print(f\"Валюта с максимальным курсом (исключая СДР): {max_currency}\")"
   ]
  },
  {
   "cell_type": "markdown",
   "id": "2dc5ade9",
   "metadata": {},
   "source": [
    "Задание 2 "
   ]
  },
  {
   "cell_type": "code",
   "execution_count": 71,
   "id": "7e4e6ba3",
   "metadata": {},
   "outputs": [],
   "source": [
    "import requests\n",
    "\n",
    "class Rate:\n",
    "    def __init__(self, format_='value', diff=False):\n",
    "        self.format = format_\n",
    "        self.diff = diff\n",
    "        self.previous_rates = self._get_previous_rates()\n",
    "\n",
    "    def _get_previous_rates(self):\n",
    "        response = self._make_api_request()\n",
    "        return {currency: response[currency]['Previous']/ response[currency]['Nominal'] for currency in response}\n",
    "\n",
    "    def _make_api_request(self):\n",
    "        r = requests.get('https://www.cbr-xml-daily.ru/daily_json.js')\n",
    "        return r.json()['Valute']\n",
    "\n",
    "    def _get_diff(self, currency):\n",
    "        current_rate = self._make_api_request()[currency]['Value']/ self._make_api_request()[currency]['Nominal']\n",
    "        previous_rate = self.previous_rates[currency]\n",
    "        return round(current_rate - previous_rate, 6)\n",
    "\n",
    "    def _get_format_value(self, currency):\n",
    "        response = self._make_api_request()\n",
    "\n",
    "        if currency in response:\n",
    "            if self.format == 'full':\n",
    "                return response[currency]\n",
    "\n",
    "            if self.format == 'value':\n",
    "                if self.diff:\n",
    "                    return self._get_diff(currency)\n",
    "                else:\n",
    "                    return response[currency]['Value']/ response[currency]['Nominal']\n",
    "\n",
    "        return 'Error'\n",
    "\n",
    "    def eur(self):\n",
    "        return self._get_format_value('EUR')\n",
    "\n",
    "    def usd(self):\n",
    "        return self._get_format_value('USD')\n",
    "    def brl(self):\n",
    "        return self._get_format_value('BRL')\n",
    "    def try_(self):\n",
    "        return self._get_format_value('TRY')\n",
    "\n",
    "\n",
    "\n"
   ]
  },
  {
   "cell_type": "code",
   "execution_count": 75,
   "id": "d40dd9e7",
   "metadata": {},
   "outputs": [
    {
     "data": {
      "text/plain": [
       "{'ID': 'R01235',\n",
       " 'NumCode': '840',\n",
       " 'CharCode': 'USD',\n",
       " 'Nominal': 1,\n",
       " 'Name': 'Доллар США',\n",
       " 'Value': 93.0351,\n",
       " 'Previous': 93.173}"
      ]
     },
     "execution_count": 75,
     "metadata": {},
     "output_type": "execute_result"
    }
   ],
   "source": [
    "r = Rate(format_ = 'full')\n",
    "r.usd()  "
   ]
  },
  {
   "cell_type": "code",
   "execution_count": 76,
   "id": "4b1323a2",
   "metadata": {},
   "outputs": [
    {
     "data": {
      "text/plain": [
       "-0.1379"
      ]
     },
     "execution_count": 76,
     "metadata": {},
     "output_type": "execute_result"
    }
   ],
   "source": [
    "r = Rate(diff=True)\n",
    "r.usd()"
   ]
  },
  {
   "cell_type": "code",
   "execution_count": 77,
   "id": "d7bf153c",
   "metadata": {},
   "outputs": [
    {
     "data": {
      "text/plain": [
       "93.0351"
      ]
     },
     "execution_count": 77,
     "metadata": {},
     "output_type": "execute_result"
    }
   ],
   "source": [
    "r = Rate(diff=False)\n",
    "r.usd()"
   ]
  },
  {
   "cell_type": "code",
   "execution_count": null,
   "id": "333a1534",
   "metadata": {},
   "outputs": [],
   "source": []
  }
 ],
 "metadata": {
  "kernelspec": {
   "display_name": "Python 3 (ipykernel)",
   "language": "python",
   "name": "python3"
  },
  "language_info": {
   "codemirror_mode": {
    "name": "ipython",
    "version": 3
   },
   "file_extension": ".py",
   "mimetype": "text/x-python",
   "name": "python",
   "nbconvert_exporter": "python",
   "pygments_lexer": "ipython3",
   "version": "3.11.5"
  }
 },
 "nbformat": 4,
 "nbformat_minor": 5
}
